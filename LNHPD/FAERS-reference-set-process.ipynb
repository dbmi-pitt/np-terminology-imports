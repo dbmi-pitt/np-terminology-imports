{
 "cells": [
  {
   "cell_type": "code",
   "execution_count": 1,
   "id": "upper-conviction",
   "metadata": {},
   "outputs": [],
   "source": [
    "import pandas as pd\n",
    "import numpy as np"
   ]
  },
  {
   "cell_type": "markdown",
   "id": "careful-contributor",
   "metadata": {},
   "source": [
    "#### This notebook filters the annotated FAERS strings and drug matches to remove duplicates and save as CSVs.\n",
    "\n",
    "Last run - 01-16-2022 with iteration 1, 2, and 3 of the FAERS reference set annotations. \n",
    "\n",
    "Last run - 01-31-2022 for iteration 4 with missing NPs in code block at the bottom\n",
    "\n",
    "Details and NP list - https://github.com/rkboyce/NaPDI-pv/wiki/Natural-Product-List"
   ]
  },
  {
   "cell_type": "code",
   "execution_count": 2,
   "id": "second-revelation",
   "metadata": {},
   "outputs": [
    {
     "data": {
      "text/html": [
       "<div>\n",
       "<style scoped>\n",
       "    .dataframe tbody tr th:only-of-type {\n",
       "        vertical-align: middle;\n",
       "    }\n",
       "\n",
       "    .dataframe tbody tr th {\n",
       "        vertical-align: top;\n",
       "    }\n",
       "\n",
       "    .dataframe thead th {\n",
       "        text-align: right;\n",
       "    }\n",
       "</style>\n",
       "<table border=\"1\" class=\"dataframe\">\n",
       "  <thead>\n",
       "    <tr style=\"text-align: right;\">\n",
       "      <th></th>\n",
       "      <th>FAERS_drug_match</th>\n",
       "      <th>related_latin_binomial</th>\n",
       "      <th>related_common_name</th>\n",
       "    </tr>\n",
       "  </thead>\n",
       "  <tbody>\n",
       "    <tr>\n",
       "      <th>0</th>\n",
       "      <td>ADRENAL HEALTH (BRAND) = (SIBERIAN RHODIOLA, R...</td>\n",
       "      <td>Withania somnifera</td>\n",
       "      <td>Ashwaganda</td>\n",
       "    </tr>\n",
       "    <tr>\n",
       "      <th>1</th>\n",
       "      <td>ASHWAGANDHA</td>\n",
       "      <td>Withania somnifera</td>\n",
       "      <td>Ashwaganda</td>\n",
       "    </tr>\n",
       "    <tr>\n",
       "      <th>2</th>\n",
       "      <td>ASHWAGANDHA,</td>\n",
       "      <td>Withania somnifera</td>\n",
       "      <td>Ashwaganda</td>\n",
       "    </tr>\n",
       "    <tr>\n",
       "      <th>3</th>\n",
       "      <td>ASHWAGANDHA                        /01660201/</td>\n",
       "      <td>Withania somnifera</td>\n",
       "      <td>Ashwaganda</td>\n",
       "    </tr>\n",
       "    <tr>\n",
       "      <th>4</th>\n",
       "      <td>ASHWAGANDHA /01660201/</td>\n",
       "      <td>Withania somnifera</td>\n",
       "      <td>Ashwaganda</td>\n",
       "    </tr>\n",
       "  </tbody>\n",
       "</table>\n",
       "</div>"
      ],
      "text/plain": [
       "                                    FAERS_drug_match related_latin_binomial  \\\n",
       "0  ADRENAL HEALTH (BRAND) = (SIBERIAN RHODIOLA, R...     Withania somnifera   \n",
       "1                                        ASHWAGANDHA     Withania somnifera   \n",
       "2                                       ASHWAGANDHA,     Withania somnifera   \n",
       "3      ASHWAGANDHA                        /01660201/     Withania somnifera   \n",
       "4                             ASHWAGANDHA /01660201/     Withania somnifera   \n",
       "\n",
       "  related_common_name  \n",
       "0          Ashwaganda  \n",
       "1          Ashwaganda  \n",
       "2          Ashwaganda  \n",
       "3          Ashwaganda  \n",
       "4          Ashwaganda  "
      ]
     },
     "execution_count": 2,
     "metadata": {},
     "output_type": "execute_result"
    }
   ],
   "source": [
    "#Data from iteration 1 - exact matches\n",
    "df = pd.read_excel('NP_FAERS_Vocabulary_Reference_set_Jan2022.xlsx', sheet_name=0)\n",
    "df.head()"
   ]
  },
  {
   "cell_type": "code",
   "execution_count": 3,
   "id": "agreed-bailey",
   "metadata": {},
   "outputs": [
    {
     "name": "stdout",
     "output_type": "stream",
     "text": [
      "<class 'pandas.core.frame.DataFrame'>\n",
      "RangeIndex: 1829 entries, 0 to 1828\n",
      "Data columns (total 3 columns):\n",
      " #   Column                  Non-Null Count  Dtype \n",
      "---  ------                  --------------  ----- \n",
      " 0   FAERS_drug_match        1829 non-null   object\n",
      " 1   related_latin_binomial  1829 non-null   object\n",
      " 2   related_common_name     1829 non-null   object\n",
      "dtypes: object(3)\n",
      "memory usage: 43.0+ KB\n"
     ]
    }
   ],
   "source": [
    "df.info()"
   ]
  },
  {
   "cell_type": "code",
   "execution_count": null,
   "id": "minor-merchandise",
   "metadata": {},
   "outputs": [],
   "source": [
    "#add column with exact match?"
   ]
  },
  {
   "cell_type": "code",
   "execution_count": 4,
   "id": "norwegian-madonna",
   "metadata": {},
   "outputs": [
    {
     "name": "stdout",
     "output_type": "stream",
     "text": [
      "<class 'pandas.core.frame.DataFrame'>\n",
      "RangeIndex: 978 entries, 0 to 977\n",
      "Data columns (total 3 columns):\n",
      " #   Column                  Non-Null Count  Dtype \n",
      "---  ------                  --------------  ----- \n",
      " 0   FAERS_drug_match        978 non-null    object\n",
      " 1   related_latin_binomial  978 non-null    object\n",
      " 2   related_common_name     978 non-null    object\n",
      "dtypes: object(3)\n",
      "memory usage: 23.0+ KB\n"
     ]
    }
   ],
   "source": [
    "#Data from iteration 2 - levenshtein matches\n",
    "df2 = pd.read_excel('NP_FAERS_Vocabulary_Reference_set_Jan2022.xlsx', sheet_name=1)\n",
    "df2.info()"
   ]
  },
  {
   "cell_type": "code",
   "execution_count": 5,
   "id": "prerequisite-swiss",
   "metadata": {},
   "outputs": [
    {
     "name": "stdout",
     "output_type": "stream",
     "text": [
      "<class 'pandas.core.frame.DataFrame'>\n",
      "RangeIndex: 523 entries, 0 to 522\n",
      "Data columns (total 3 columns):\n",
      " #   Column                  Non-Null Count  Dtype \n",
      "---  ------                  --------------  ----- \n",
      " 0   FAERS_drug_match        523 non-null    object\n",
      " 1   related_latin_binomial  523 non-null    object\n",
      " 2   related_common_name     523 non-null    object\n",
      "dtypes: object(3)\n",
      "memory usage: 12.4+ KB\n"
     ]
    }
   ],
   "source": [
    "#Data from iteration 3 - all matches for added NPs\n",
    "df3 = pd.read_excel('NP_FAERS_Vocabulary_Reference_set_Jan2022.xlsx', sheet_name=2)\n",
    "df3.info()"
   ]
  },
  {
   "cell_type": "code",
   "execution_count": 6,
   "id": "accepted-charity",
   "metadata": {},
   "outputs": [
    {
     "name": "stdout",
     "output_type": "stream",
     "text": [
      "<class 'pandas.core.frame.DataFrame'>\n",
      "Int64Index: 3330 entries, 0 to 522\n",
      "Data columns (total 3 columns):\n",
      " #   Column                  Non-Null Count  Dtype \n",
      "---  ------                  --------------  ----- \n",
      " 0   FAERS_drug_match        3330 non-null   object\n",
      " 1   related_latin_binomial  3330 non-null   object\n",
      " 2   related_common_name     3330 non-null   object\n",
      "dtypes: object(3)\n",
      "memory usage: 104.1+ KB\n"
     ]
    }
   ],
   "source": [
    "#concatenate dataframes and drop duplicates\n",
    "df_all = pd.concat([df, df2, df3])\n",
    "df_all.info()"
   ]
  },
  {
   "cell_type": "code",
   "execution_count": 7,
   "id": "exceptional-great",
   "metadata": {},
   "outputs": [],
   "source": [
    "#remove duplicates from individual dataframes\n",
    "df = df_all.drop_duplicates(ignore_index=True)"
   ]
  },
  {
   "cell_type": "code",
   "execution_count": 8,
   "id": "unique-chemistry",
   "metadata": {},
   "outputs": [
    {
     "name": "stdout",
     "output_type": "stream",
     "text": [
      "<class 'pandas.core.frame.DataFrame'>\n",
      "RangeIndex: 1925 entries, 0 to 1924\n",
      "Data columns (total 3 columns):\n",
      " #   Column                  Non-Null Count  Dtype \n",
      "---  ------                  --------------  ----- \n",
      " 0   FAERS_drug_match        1925 non-null   object\n",
      " 1   related_latin_binomial  1925 non-null   object\n",
      " 2   related_common_name     1925 non-null   object\n",
      "dtypes: object(3)\n",
      "memory usage: 45.2+ KB\n"
     ]
    }
   ],
   "source": [
    "df.info()"
   ]
  },
  {
   "cell_type": "code",
   "execution_count": 9,
   "id": "heavy-cleaners",
   "metadata": {},
   "outputs": [
    {
     "data": {
      "text/html": [
       "<div>\n",
       "<style scoped>\n",
       "    .dataframe tbody tr th:only-of-type {\n",
       "        vertical-align: middle;\n",
       "    }\n",
       "\n",
       "    .dataframe tbody tr th {\n",
       "        vertical-align: top;\n",
       "    }\n",
       "\n",
       "    .dataframe thead th {\n",
       "        text-align: right;\n",
       "    }\n",
       "</style>\n",
       "<table border=\"1\" class=\"dataframe\">\n",
       "  <thead>\n",
       "    <tr style=\"text-align: right;\">\n",
       "      <th></th>\n",
       "      <th>FAERS_drug_match</th>\n",
       "      <th>related_latin_binomial</th>\n",
       "      <th>related_common_name</th>\n",
       "    </tr>\n",
       "  </thead>\n",
       "  <tbody>\n",
       "    <tr>\n",
       "      <th>1675</th>\n",
       "      <td>ALEO VERA</td>\n",
       "      <td>Aloe vera</td>\n",
       "      <td>Aloe vera</td>\n",
       "    </tr>\n",
       "    <tr>\n",
       "      <th>1676</th>\n",
       "      <td>ALOEVERA</td>\n",
       "      <td>Aloe vera</td>\n",
       "      <td>Aloe vera</td>\n",
       "    </tr>\n",
       "    <tr>\n",
       "      <th>1677</th>\n",
       "      <td>ALOVERA</td>\n",
       "      <td>Aloe vera</td>\n",
       "      <td>Aloe vera</td>\n",
       "    </tr>\n",
       "    <tr>\n",
       "      <th>1678</th>\n",
       "      <td>ALOA VERA OTC</td>\n",
       "      <td>Aloe vera</td>\n",
       "      <td>Aloe vera</td>\n",
       "    </tr>\n",
       "    <tr>\n",
       "      <th>1679</th>\n",
       "      <td>ALOE VERA (75%)</td>\n",
       "      <td>Aloe vera</td>\n",
       "      <td>Aloe vera</td>\n",
       "    </tr>\n",
       "  </tbody>\n",
       "</table>\n",
       "</div>"
      ],
      "text/plain": [
       "     FAERS_drug_match related_latin_binomial related_common_name\n",
       "1675        ALEO VERA              Aloe vera           Aloe vera\n",
       "1676         ALOEVERA              Aloe vera           Aloe vera\n",
       "1677          ALOVERA              Aloe vera           Aloe vera\n",
       "1678    ALOA VERA OTC              Aloe vera           Aloe vera\n",
       "1679  ALOE VERA (75%)              Aloe vera           Aloe vera"
      ]
     },
     "execution_count": 9,
     "metadata": {},
     "output_type": "execute_result"
    }
   ],
   "source": [
    "df = df.sort_values(by=['related_common_name', 'related_latin_binomial'])\n",
    "df.head()"
   ]
  },
  {
   "cell_type": "code",
   "execution_count": 10,
   "id": "indirect-lease",
   "metadata": {},
   "outputs": [],
   "source": [
    "#save as CSV\n",
    "df.to_csv('NP_FAERS_reference_set_all_20220117.csv', index=False)"
   ]
  },
  {
   "cell_type": "code",
   "execution_count": 1,
   "id": "announced-tucson",
   "metadata": {},
   "outputs": [],
   "source": [
    "##Iteration 4 for missing NPs - remove duplicates before annotation, then creating reference set file after annotation"
   ]
  },
  {
   "cell_type": "code",
   "execution_count": 2,
   "id": "7318787f-717b-4c02-bc34-33687f9d4068",
   "metadata": {},
   "outputs": [],
   "source": [
    "import pandas as pd\n",
    "import numpy as np"
   ]
  },
  {
   "cell_type": "code",
   "execution_count": 3,
   "id": "2c5e37d4-3de4-43d9-b17c-1dbef0afc586",
   "metadata": {},
   "outputs": [],
   "source": [
    "df1= pd.read_csv('faers_drug_to_np_202201272040.csv')\n",
    "df2 = pd.read_csv('faers_drug_to_np_lev_2_202201272040.csv')\n",
    "df3 = pd.read_csv('faers_drug_to_np_lev_long_202201272041.csv')"
   ]
  },
  {
   "cell_type": "code",
   "execution_count": 4,
   "id": "9c4285a7-384c-43c0-9321-58e9a32b8fa6",
   "metadata": {},
   "outputs": [
    {
     "name": "stdout",
     "output_type": "stream",
     "text": [
      "<class 'pandas.core.frame.DataFrame'>\n",
      "RangeIndex: 2389 entries, 0 to 2388\n",
      "Data columns (total 4 columns):\n",
      " #   Column                  Non-Null Count  Dtype \n",
      "---  ------                  --------------  ----- \n",
      " 0   drug_name_original      2389 non-null   object\n",
      " 1   np_name                 2389 non-null   object\n",
      " 2   related_common_name     2389 non-null   object\n",
      " 3   related_latin_binomial  2389 non-null   object\n",
      "dtypes: object(4)\n",
      "memory usage: 74.8+ KB\n"
     ]
    }
   ],
   "source": [
    "df1.info()"
   ]
  },
  {
   "cell_type": "code",
   "execution_count": 5,
   "id": "eb983295-357d-471a-b6ad-e6b0386c3889",
   "metadata": {},
   "outputs": [
    {
     "name": "stdout",
     "output_type": "stream",
     "text": [
      "<class 'pandas.core.frame.DataFrame'>\n",
      "RangeIndex: 1172 entries, 0 to 1171\n",
      "Data columns (total 4 columns):\n",
      " #   Column                  Non-Null Count  Dtype \n",
      "---  ------                  --------------  ----- \n",
      " 0   drug_name_original      1172 non-null   object\n",
      " 1   np_name                 1172 non-null   object\n",
      " 2   related_common_name     1172 non-null   object\n",
      " 3   related_latin_binomial  1172 non-null   object\n",
      "dtypes: object(4)\n",
      "memory usage: 36.8+ KB\n"
     ]
    }
   ],
   "source": [
    "df2.info()"
   ]
  },
  {
   "cell_type": "code",
   "execution_count": 6,
   "id": "c67e724b-3961-4e93-a194-f5aaf5b0f233",
   "metadata": {},
   "outputs": [
    {
     "name": "stdout",
     "output_type": "stream",
     "text": [
      "<class 'pandas.core.frame.DataFrame'>\n",
      "RangeIndex: 1085 entries, 0 to 1084\n",
      "Data columns (total 4 columns):\n",
      " #   Column                  Non-Null Count  Dtype \n",
      "---  ------                  --------------  ----- \n",
      " 0   drug_name_original      1085 non-null   object\n",
      " 1   np_name                 1085 non-null   object\n",
      " 2   related_common_name     1085 non-null   object\n",
      " 3   related_latin_binomial  1085 non-null   object\n",
      "dtypes: object(4)\n",
      "memory usage: 34.0+ KB\n"
     ]
    }
   ],
   "source": [
    "df3.info()"
   ]
  },
  {
   "cell_type": "code",
   "execution_count": 7,
   "id": "06c883f5-835f-47c3-9267-4f7fc33b0753",
   "metadata": {},
   "outputs": [],
   "source": [
    "df = pd.concat([df1, df2, df3], ignore_index=True)"
   ]
  },
  {
   "cell_type": "code",
   "execution_count": 8,
   "id": "0cb36a87-0db7-4ace-8c10-b8d317b9e3fc",
   "metadata": {},
   "outputs": [
    {
     "name": "stdout",
     "output_type": "stream",
     "text": [
      "<class 'pandas.core.frame.DataFrame'>\n",
      "RangeIndex: 4646 entries, 0 to 4645\n",
      "Data columns (total 4 columns):\n",
      " #   Column                  Non-Null Count  Dtype \n",
      "---  ------                  --------------  ----- \n",
      " 0   drug_name_original      4646 non-null   object\n",
      " 1   np_name                 4646 non-null   object\n",
      " 2   related_common_name     4646 non-null   object\n",
      " 3   related_latin_binomial  4646 non-null   object\n",
      "dtypes: object(4)\n",
      "memory usage: 145.3+ KB\n"
     ]
    }
   ],
   "source": [
    "df.info()"
   ]
  },
  {
   "cell_type": "code",
   "execution_count": 10,
   "id": "71e66f52-37ae-419d-bbdc-1a3760f90ddf",
   "metadata": {},
   "outputs": [
    {
     "name": "stdout",
     "output_type": "stream",
     "text": [
      "<class 'pandas.core.frame.DataFrame'>\n",
      "RangeIndex: 4506 entries, 0 to 4505\n",
      "Data columns (total 4 columns):\n",
      " #   Column                  Non-Null Count  Dtype \n",
      "---  ------                  --------------  ----- \n",
      " 0   drug_name_original      4506 non-null   object\n",
      " 1   np_name                 4506 non-null   object\n",
      " 2   related_common_name     4506 non-null   object\n",
      " 3   related_latin_binomial  4506 non-null   object\n",
      "dtypes: object(4)\n",
      "memory usage: 140.9+ KB\n"
     ]
    }
   ],
   "source": [
    "df = df.drop_duplicates(ignore_index=True)\n",
    "df.info()"
   ]
  },
  {
   "cell_type": "code",
   "execution_count": 11,
   "id": "846713af-ed1b-492f-930c-2df6d5319ee8",
   "metadata": {},
   "outputs": [
    {
     "name": "stdout",
     "output_type": "stream",
     "text": [
      "<class 'pandas.core.frame.DataFrame'>\n",
      "RangeIndex: 3856 entries, 0 to 3855\n",
      "Data columns (total 4 columns):\n",
      " #   Column                  Non-Null Count  Dtype \n",
      "---  ------                  --------------  ----- \n",
      " 0   drug_name_original      3856 non-null   object\n",
      " 1   np_name                 3856 non-null   object\n",
      " 2   related_common_name     3856 non-null   object\n",
      " 3   related_latin_binomial  3856 non-null   object\n",
      "dtypes: object(4)\n",
      "memory usage: 120.6+ KB\n"
     ]
    }
   ],
   "source": [
    "df = df.drop_duplicates(subset=['drug_name_original', 'np_name'], ignore_index=True)\n",
    "df.info()"
   ]
  },
  {
   "cell_type": "code",
   "execution_count": 12,
   "id": "3f55a897-50f5-4a68-adc8-558b3d689a38",
   "metadata": {},
   "outputs": [
    {
     "data": {
      "text/html": [
       "<div>\n",
       "<style scoped>\n",
       "    .dataframe tbody tr th:only-of-type {\n",
       "        vertical-align: middle;\n",
       "    }\n",
       "\n",
       "    .dataframe tbody tr th {\n",
       "        vertical-align: top;\n",
       "    }\n",
       "\n",
       "    .dataframe thead th {\n",
       "        text-align: right;\n",
       "    }\n",
       "</style>\n",
       "<table border=\"1\" class=\"dataframe\">\n",
       "  <thead>\n",
       "    <tr style=\"text-align: right;\">\n",
       "      <th></th>\n",
       "      <th>drug_name_original</th>\n",
       "      <th>np_name</th>\n",
       "      <th>related_common_name</th>\n",
       "      <th>related_latin_binomial</th>\n",
       "    </tr>\n",
       "  </thead>\n",
       "  <tbody>\n",
       "    <tr>\n",
       "      <th>0</th>\n",
       "      <td>SENNA-COL</td>\n",
       "      <td>SENNA</td>\n",
       "      <td>Senna</td>\n",
       "      <td>Senna alexandrina</td>\n",
       "    </tr>\n",
       "    <tr>\n",
       "      <th>1</th>\n",
       "      <td>SENNA-DOCUSATE 8.6-50MG</td>\n",
       "      <td>SENNA</td>\n",
       "      <td>Senna</td>\n",
       "      <td>Senna alexandrina</td>\n",
       "    </tr>\n",
       "    <tr>\n",
       "      <th>2</th>\n",
       "      <td>PURSENNID (PURSENNID)</td>\n",
       "      <td>PURSENNID</td>\n",
       "      <td>Senna</td>\n",
       "      <td>Senna alexandrina</td>\n",
       "    </tr>\n",
       "    <tr>\n",
       "      <th>3</th>\n",
       "      <td>CRANBERRY EXTRACT [VACCINIUM OXYCOCCOS FRUIT E...</td>\n",
       "      <td>CRANBERRY</td>\n",
       "      <td>Cranberry</td>\n",
       "      <td>Vaccinium macrocarpon</td>\n",
       "    </tr>\n",
       "    <tr>\n",
       "      <th>4</th>\n",
       "      <td>X PREP [SENNA ALEXANDRINA EXTRACT]</td>\n",
       "      <td>SENNA</td>\n",
       "      <td>Senna</td>\n",
       "      <td>Senna alexandrina</td>\n",
       "    </tr>\n",
       "  </tbody>\n",
       "</table>\n",
       "</div>"
      ],
      "text/plain": [
       "                                  drug_name_original    np_name  \\\n",
       "0                                          SENNA-COL      SENNA   \n",
       "1                            SENNA-DOCUSATE 8.6-50MG      SENNA   \n",
       "2                              PURSENNID (PURSENNID)  PURSENNID   \n",
       "3  CRANBERRY EXTRACT [VACCINIUM OXYCOCCOS FRUIT E...  CRANBERRY   \n",
       "4                 X PREP [SENNA ALEXANDRINA EXTRACT]      SENNA   \n",
       "\n",
       "  related_common_name related_latin_binomial  \n",
       "0               Senna      Senna alexandrina  \n",
       "1               Senna      Senna alexandrina  \n",
       "2               Senna      Senna alexandrina  \n",
       "3           Cranberry  Vaccinium macrocarpon  \n",
       "4               Senna      Senna alexandrina  "
      ]
     },
     "execution_count": 12,
     "metadata": {},
     "output_type": "execute_result"
    }
   ],
   "source": [
    "df.head()"
   ]
  },
  {
   "cell_type": "code",
   "execution_count": 13,
   "id": "f76a02ca-d812-412e-ae06-215da0f1bdea",
   "metadata": {},
   "outputs": [
    {
     "data": {
      "text/html": [
       "<div>\n",
       "<style scoped>\n",
       "    .dataframe tbody tr th:only-of-type {\n",
       "        vertical-align: middle;\n",
       "    }\n",
       "\n",
       "    .dataframe tbody tr th {\n",
       "        vertical-align: top;\n",
       "    }\n",
       "\n",
       "    .dataframe thead th {\n",
       "        text-align: right;\n",
       "    }\n",
       "</style>\n",
       "<table border=\"1\" class=\"dataframe\">\n",
       "  <thead>\n",
       "    <tr style=\"text-align: right;\">\n",
       "      <th></th>\n",
       "      <th>drug_name_original</th>\n",
       "      <th>np_name</th>\n",
       "      <th>related_common_name</th>\n",
       "      <th>related_latin_binomial</th>\n",
       "    </tr>\n",
       "  </thead>\n",
       "  <tbody>\n",
       "    <tr>\n",
       "      <th>2378</th>\n",
       "      <td>5CG</td>\n",
       "      <td>ACV</td>\n",
       "      <td>Apple cider vinegar</td>\n",
       "      <td>Malus domestica</td>\n",
       "    </tr>\n",
       "    <tr>\n",
       "      <th>2379</th>\n",
       "      <td>A</td>\n",
       "      <td>ACV</td>\n",
       "      <td>Apple cider vinegar</td>\n",
       "      <td>Malus domestica</td>\n",
       "    </tr>\n",
       "    <tr>\n",
       "      <th>2381</th>\n",
       "      <td>A A</td>\n",
       "      <td>ACV</td>\n",
       "      <td>Apple cider vinegar</td>\n",
       "      <td>Malus domestica</td>\n",
       "    </tr>\n",
       "    <tr>\n",
       "      <th>2422</th>\n",
       "      <td>A+D</td>\n",
       "      <td>ACV</td>\n",
       "      <td>Apple cider vinegar</td>\n",
       "      <td>Malus domestica</td>\n",
       "    </tr>\n",
       "    <tr>\n",
       "      <th>2477</th>\n",
       "      <td>A-M</td>\n",
       "      <td>ACV</td>\n",
       "      <td>Apple cider vinegar</td>\n",
       "      <td>Malus domestica</td>\n",
       "    </tr>\n",
       "  </tbody>\n",
       "</table>\n",
       "</div>"
      ],
      "text/plain": [
       "     drug_name_original np_name  related_common_name related_latin_binomial\n",
       "2378                5CG     ACV  Apple cider vinegar        Malus domestica\n",
       "2379                  A     ACV  Apple cider vinegar        Malus domestica\n",
       "2381                A A     ACV  Apple cider vinegar        Malus domestica\n",
       "2422                A+D     ACV  Apple cider vinegar        Malus domestica\n",
       "2477                A-M     ACV  Apple cider vinegar        Malus domestica"
      ]
     },
     "execution_count": 13,
     "metadata": {},
     "output_type": "execute_result"
    }
   ],
   "source": [
    "df = df.sort_values(by=['related_common_name', 'np_name', 'drug_name_original'])\n",
    "df.head()"
   ]
  },
  {
   "cell_type": "code",
   "execution_count": 14,
   "id": "412dc7a5-62c9-4033-9b20-a36a9924825a",
   "metadata": {},
   "outputs": [],
   "source": [
    "df.to_csv('NP_FAERS_reference_set4.csv', index=False)"
   ]
  },
  {
   "cell_type": "code",
   "execution_count": 1,
   "id": "b7797159-3e5a-469c-92b2-082bddbe3c8b",
   "metadata": {},
   "outputs": [],
   "source": [
    "##after annotations, drop duplicates\n",
    "import pandas as pd"
   ]
  },
  {
   "cell_type": "code",
   "execution_count": 2,
   "id": "d6185806-d439-4fd3-821b-fa5e9f4ee389",
   "metadata": {},
   "outputs": [
    {
     "name": "stdout",
     "output_type": "stream",
     "text": [
      "<class 'pandas.core.frame.DataFrame'>\n",
      "RangeIndex: 3205 entries, 0 to 3204\n",
      "Data columns (total 3 columns):\n",
      " #   Column                  Non-Null Count  Dtype \n",
      "---  ------                  --------------  ----- \n",
      " 0   FAERS_drug_match        3205 non-null   object\n",
      " 1   related_latin_binomial  1925 non-null   object\n",
      " 2   related_common_name     3205 non-null   object\n",
      "dtypes: object(3)\n",
      "memory usage: 75.2+ KB\n"
     ]
    }
   ],
   "source": [
    "df = pd.read_csv('NP_FAERS_reference_set_all_raw_20220131.csv')\n",
    "df.info()"
   ]
  },
  {
   "cell_type": "code",
   "execution_count": 3,
   "id": "4ffae98d-de1b-4c47-9a6c-0277c6dd02c3",
   "metadata": {},
   "outputs": [
    {
     "name": "stdout",
     "output_type": "stream",
     "text": [
      "<class 'pandas.core.frame.DataFrame'>\n",
      "RangeIndex: 2679 entries, 0 to 2678\n",
      "Data columns (total 3 columns):\n",
      " #   Column                  Non-Null Count  Dtype \n",
      "---  ------                  --------------  ----- \n",
      " 0   FAERS_drug_match        2679 non-null   object\n",
      " 1   related_latin_binomial  1925 non-null   object\n",
      " 2   related_common_name     2679 non-null   object\n",
      "dtypes: object(3)\n",
      "memory usage: 62.9+ KB\n"
     ]
    }
   ],
   "source": [
    "df_new = df.drop_duplicates(ignore_index=True)\n",
    "df_new.info()"
   ]
  },
  {
   "cell_type": "code",
   "execution_count": 6,
   "id": "7ec3a158-3dee-4db3-9d80-450f849557ae",
   "metadata": {},
   "outputs": [
    {
     "data": {
      "text/html": [
       "<div>\n",
       "<style scoped>\n",
       "    .dataframe tbody tr th:only-of-type {\n",
       "        vertical-align: middle;\n",
       "    }\n",
       "\n",
       "    .dataframe tbody tr th {\n",
       "        vertical-align: top;\n",
       "    }\n",
       "\n",
       "    .dataframe thead th {\n",
       "        text-align: right;\n",
       "    }\n",
       "</style>\n",
       "<table border=\"1\" class=\"dataframe\">\n",
       "  <thead>\n",
       "    <tr style=\"text-align: right;\">\n",
       "      <th></th>\n",
       "      <th>FAERS_drug_match</th>\n",
       "      <th>related_latin_binomial</th>\n",
       "      <th>related_common_name</th>\n",
       "    </tr>\n",
       "  </thead>\n",
       "  <tbody>\n",
       "    <tr>\n",
       "      <th>0</th>\n",
       "      <td>ALEO VERA</td>\n",
       "      <td>Aloe vera</td>\n",
       "      <td>Aloe vera</td>\n",
       "    </tr>\n",
       "    <tr>\n",
       "      <th>17</th>\n",
       "      <td>ALO VERA JUICE</td>\n",
       "      <td>Aloe vera</td>\n",
       "      <td>Aloe vera</td>\n",
       "    </tr>\n",
       "    <tr>\n",
       "      <th>3</th>\n",
       "      <td>ALOA VERA OTC</td>\n",
       "      <td>Aloe vera</td>\n",
       "      <td>Aloe vera</td>\n",
       "    </tr>\n",
       "    <tr>\n",
       "      <th>4</th>\n",
       "      <td>ALOE VERA (75%)</td>\n",
       "      <td>Aloe vera</td>\n",
       "      <td>Aloe vera</td>\n",
       "    </tr>\n",
       "    <tr>\n",
       "      <th>5</th>\n",
       "      <td>ALOE VERA CAP</td>\n",
       "      <td>Aloe vera</td>\n",
       "      <td>Aloe vera</td>\n",
       "    </tr>\n",
       "  </tbody>\n",
       "</table>\n",
       "</div>"
      ],
      "text/plain": [
       "   FAERS_drug_match related_latin_binomial related_common_name\n",
       "0         ALEO VERA              Aloe vera           Aloe vera\n",
       "17   ALO VERA JUICE              Aloe vera           Aloe vera\n",
       "3     ALOA VERA OTC              Aloe vera           Aloe vera\n",
       "4   ALOE VERA (75%)              Aloe vera           Aloe vera\n",
       "5     ALOE VERA CAP              Aloe vera           Aloe vera"
      ]
     },
     "execution_count": 6,
     "metadata": {},
     "output_type": "execute_result"
    }
   ],
   "source": [
    "df_new = df_new.sort_values(by=['related_common_name', 'FAERS_drug_match'])\n",
    "df_new.head()"
   ]
  },
  {
   "cell_type": "code",
   "execution_count": 8,
   "id": "af25dbc2-1ba4-4505-9b63-1ebf3dcce1a0",
   "metadata": {},
   "outputs": [],
   "source": [
    "df_new.to_csv('NP_FAERS_reference_set_all_20220131.csv', index=False)"
   ]
  },
  {
   "cell_type": "code",
   "execution_count": null,
   "id": "aaea355c-b3a8-4d47-ae3c-66ddfbe47d6d",
   "metadata": {},
   "outputs": [],
   "source": []
  }
 ],
 "metadata": {
  "kernelspec": {
   "display_name": "Python 3 (ipykernel)",
   "language": "python",
   "name": "python3"
  },
  "language_info": {
   "codemirror_mode": {
    "name": "ipython",
    "version": 3
   },
   "file_extension": ".py",
   "mimetype": "text/x-python",
   "name": "python",
   "nbconvert_exporter": "python",
   "pygments_lexer": "ipython3",
   "version": "3.8.0"
  }
 },
 "nbformat": 4,
 "nbformat_minor": 5
}
